{
 "cells": [
  {
   "cell_type": "code",
   "execution_count": 18,
   "metadata": {},
   "outputs": [],
   "source": [
    "import os\n",
    "from tensorflow.keras.models import load_model\n",
    "import numpy as np"
   ]
  },
  {
   "cell_type": "code",
   "execution_count": 19,
   "metadata": {},
   "outputs": [],
   "source": [
    "my_dir = os.getcwd()\n",
    "stored_models = [os.path.join(my_dir, file) for file in os.listdir(my_dir) if file.endswith(\".h5\")]"
   ]
  },
  {
   "cell_type": "markdown",
   "metadata": {},
   "source": [
    "**Prediction**"
   ]
  },
  {
   "cell_type": "code",
   "execution_count": 20,
   "metadata": {},
   "outputs": [],
   "source": [
    "x = np.zeros((1, 7))"
   ]
  },
  {
   "cell_type": "code",
   "execution_count": 21,
   "metadata": {},
   "outputs": [],
   "source": [
    "x[0,0] = 8\n",
    "x[0,1] = 400\n",
    "x[0,2] = 80\n",
    "x[0,3] = 2000\n",
    "x[0,4] =  19\n",
    "x[0,5] = 72\n",
    "x[0,6] = 1"
   ]
  },
  {
   "cell_type": "code",
   "execution_count": 22,
   "metadata": {},
   "outputs": [
    {
     "name": "stdout",
     "output_type": "stream",
     "text": [
      "['/home/t/workspace_ml/flask_ml/mog_model_7_5.78484290300029.h5', '/home/t/workspace_ml/flask_ml/mog_model_100_6.701340399864542.h5', '/home/t/workspace_ml/flask_ml/mog_model_42_6.444458400443897.h5', '/home/t/workspace_ml/flask_ml/mog_model_1_4.743589398682443.h5']\n",
      "/home/t/workspace_ml/flask_ml/mog_model_7_5.78484290300029.h5\n",
      "/home/t/workspace_ml/flask_ml/mog_model_100_6.701340399864542.h5\n",
      "/home/t/workspace_ml/flask_ml/mog_model_42_6.444458400443897.h5\n",
      "/home/t/workspace_ml/flask_ml/mog_model_1_4.743589398682443.h5\n"
     ]
    }
   ],
   "source": [
    "print(stored_models)\n",
    "for stored_model in stored_models:\n",
    "    print(stored_model)"
   ]
  },
  {
   "cell_type": "code",
   "execution_count": 31,
   "metadata": {},
   "outputs": [
    {
     "name": "stdout",
     "output_type": "stream",
     "text": [
      "-------------------------------------\n",
      "MODEL FILE: /home/t/workspace_ml/flask_ml/mog_model_7_5.78484290300029.h5\n",
      "1/1 [==============================] - 0s 36ms/step\n",
      "FOR THIS MODEL PREDICTION IS: [[0.06497042]]\n",
      "-------------------------------------\n",
      "MODEL FILE: /home/t/workspace_ml/flask_ml/mog_model_100_6.701340399864542.h5\n",
      "1/1 [==============================] - 0s 38ms/step\n",
      "FOR THIS MODEL PREDICTION IS: [[-9.80497]]\n",
      "-------------------------------------\n",
      "MODEL FILE: /home/t/workspace_ml/flask_ml/mog_model_42_6.444458400443897.h5\n",
      "1/1 [==============================] - 0s 42ms/step\n",
      "FOR THIS MODEL PREDICTION IS: [[0.4855579]]\n",
      "-------------------------------------\n",
      "MODEL FILE: /home/t/workspace_ml/flask_ml/mog_model_1_4.743589398682443.h5\n",
      "1/1 [==============================] - 0s 41ms/step\n",
      "FOR THIS MODEL PREDICTION IS: [[14.9413595]]\n"
     ]
    }
   ],
   "source": [
    "for stored_model in stored_models:\n",
    "    model = load_model(os.path.join(my_dir, stored_model))\n",
    "    print(f\"-------------------------------------\\nMODEL FILE: {stored_model}\")\n",
    "    prediction = model.predict(x)\n",
    "    print(f\"FOR THIS MODEL PREDICTION IS: {prediction}\")\n",
    "    # print(model.summary())   "
   ]
  },
  {
   "cell_type": "code",
   "execution_count": null,
   "metadata": {},
   "outputs": [],
   "source": []
  }
 ],
 "metadata": {
  "kernelspec": {
   "display_name": "Python 3.10.5 ('v_flask-ml-jupyter')",
   "language": "python",
   "name": "python3"
  },
  "language_info": {
   "codemirror_mode": {
    "name": "ipython",
    "version": 3
   },
   "file_extension": ".py",
   "mimetype": "text/x-python",
   "name": "python",
   "nbconvert_exporter": "python",
   "pygments_lexer": "ipython3",
   "version": "3.10.5"
  },
  "orig_nbformat": 4,
  "vscode": {
   "interpreter": {
    "hash": "92da74382ff4b4911b8ec29eb996982fa4e7766dedcc102440e2956b7f725717"
   }
  }
 },
 "nbformat": 4,
 "nbformat_minor": 2
}
