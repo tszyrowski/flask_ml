{
 "cells": [
  {
   "cell_type": "code",
   "execution_count": 9,
   "metadata": {},
   "outputs": [
    {
     "name": "stdout",
     "output_type": "stream",
     "text": [
      "Works: {\n",
      "  \"errors\": [],\n",
      "  \"id\": \"2da7c29f-4f35-4728-8862-a5934ec226e7\",\n",
      "  \"mpg\": 16.49312400817871\n",
      "}\n",
      "\n"
     ]
    }
   ],
   "source": [
    "import requests\n",
    "\n",
    "json = {\n",
    "    \"cylinders\": 8,\n",
    "    \"displacement\": 300,\n",
    "    \"horsepower\": 78,\n",
    "    \"weight\": 3500,\n",
    "    \"acceleration\": 20, \n",
    "    \"model year\": 76,\n",
    "    \"origin\": 1\n",
    "}\n",
    "\n",
    "r = requests.post(\"http://localhost:5000/api\", json=json)\n",
    "\n",
    "if r.status_code == 200:\n",
    "    print(f\"Works: {r.text}\")\n",
    "else: print(f\"Fail: {r.text}\")"
   ]
  }
 ],
 "metadata": {
  "kernelspec": {
   "display_name": "Python 3.10.5 ('v_flask-ml-jupyter')",
   "language": "python",
   "name": "python3"
  },
  "language_info": {
   "codemirror_mode": {
    "name": "ipython",
    "version": 3
   },
   "file_extension": ".py",
   "mimetype": "text/x-python",
   "name": "python",
   "nbconvert_exporter": "python",
   "pygments_lexer": "ipython3",
   "version": "3.10.5"
  },
  "orig_nbformat": 4,
  "vscode": {
   "interpreter": {
    "hash": "92da74382ff4b4911b8ec29eb996982fa4e7766dedcc102440e2956b7f725717"
   }
  }
 },
 "nbformat": 4,
 "nbformat_minor": 2
}
